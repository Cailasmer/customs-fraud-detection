{
 "cells": [
  {
   "cell_type": "code",
   "execution_count": 21,
   "metadata": {
    "executionInfo": {
     "elapsed": 1320,
     "status": "ok",
     "timestamp": 1674701372918,
     "user": {
      "displayName": "Joel",
      "userId": "18127704775352828294"
     },
     "user_tz": -480
    },
    "id": "Z7t-ySCsOz_L"
   },
   "outputs": [],
   "source": [
    "import os\n",
    "import pickle\n",
    "import pandas as pd\n",
    "import numpy as np\n",
    "from sklearn.preprocessing import MinMaxScaler, LabelEncoder\n",
    "from xgboost import XGBClassifier\n",
    "from datetime import datetime\n"
   ]
  },
  {
   "cell_type": "code",
   "execution_count": 22,
   "metadata": {},
   "outputs": [
    {
     "data": {
      "text/plain": [
       "1024"
      ]
     },
     "execution_count": 22,
     "metadata": {},
     "output_type": "execute_result"
    }
   ],
   "source": [
    "import torch\n",
    "torch.cuda.empty_cache()\n",
    "#torch.cuda.is_available()\n",
    "device = torch.device(\"cuda\")\n",
    "my_tensor = torch.tensor([1, 2, 3], device=device)\n",
    "torch.cuda.max_memory_allocated()"
   ]
  },
  {
   "cell_type": "code",
   "execution_count": 23,
   "metadata": {
    "executionInfo": {
     "elapsed": 1467,
     "status": "ok",
     "timestamp": 1674701396853,
     "user": {
      "displayName": "Joel",
      "userId": "18127704775352828294"
     },
     "user_tz": -480
    },
    "id": "hWqvOjMQOz_R"
   },
   "outputs": [],
   "source": [
    "X_train = pd.read_csv('./data_enc/encoded_train.csv')\n",
    "X_valid = pd.read_csv('./data_enc/encoded_valid.csv')"
   ]
  },
  {
   "cell_type": "code",
   "execution_count": 24,
   "metadata": {
    "executionInfo": {
     "elapsed": 373,
     "status": "ok",
     "timestamp": 1674701397221,
     "user": {
      "displayName": "Joel",
      "userId": "18127704775352828294"
     },
     "user_tz": -480
    },
    "id": "kpN5etZBOz_R"
   },
   "outputs": [],
   "source": [
    "y_train= pd.read_csv('./data_enc/y_train.csv')\n",
    "y_valid= pd.read_csv('./data_enc/y_valid.csv')"
   ]
  },
  {
   "cell_type": "code",
   "execution_count": 25,
   "metadata": {
    "colab": {
     "base_uri": "https://localhost:8080/",
     "height": 650
    },
    "executionInfo": {
     "elapsed": 383,
     "status": "ok",
     "timestamp": 1674701397596,
     "user": {
      "displayName": "Joel",
      "userId": "18127704775352828294"
     },
     "user_tz": -480
    },
    "id": "7VtHtEULPuyI",
    "outputId": "c3b34b54-6bb5-44e1-94bd-b53d0ed475dc"
   },
   "outputs": [
    {
     "data": {
      "text/html": [
       "<div>\n",
       "<style scoped>\n",
       "    .dataframe tbody tr th:only-of-type {\n",
       "        vertical-align: middle;\n",
       "    }\n",
       "\n",
       "    .dataframe tbody tr th {\n",
       "        vertical-align: top;\n",
       "    }\n",
       "\n",
       "    .dataframe thead th {\n",
       "        text-align: right;\n",
       "    }\n",
       "</style>\n",
       "<table border=\"1\" class=\"dataframe\">\n",
       "  <thead>\n",
       "    <tr style=\"text-align: right;\">\n",
       "      <th></th>\n",
       "      <th>Office ID</th>\n",
       "      <th>Process Type</th>\n",
       "      <th>Import Type</th>\n",
       "      <th>Import Use</th>\n",
       "      <th>Payment Type</th>\n",
       "      <th>Mode of Transport</th>\n",
       "      <th>Declarant ID</th>\n",
       "      <th>Importer ID</th>\n",
       "      <th>Seller ID</th>\n",
       "      <th>Courier ID</th>\n",
       "      <th>HS6 Code</th>\n",
       "      <th>Country of Departure</th>\n",
       "      <th>Country of Origin</th>\n",
       "      <th>Tax Rate</th>\n",
       "      <th>Tax Type</th>\n",
       "      <th>Country of Origin Indicator</th>\n",
       "      <th>Net Mass</th>\n",
       "      <th>Item Price</th>\n",
       "    </tr>\n",
       "  </thead>\n",
       "  <tbody>\n",
       "    <tr>\n",
       "      <th>0</th>\n",
       "      <td>1</td>\n",
       "      <td>1</td>\n",
       "      <td>1</td>\n",
       "      <td>1</td>\n",
       "      <td>1</td>\n",
       "      <td>1</td>\n",
       "      <td>1</td>\n",
       "      <td>1</td>\n",
       "      <td>1</td>\n",
       "      <td>1</td>\n",
       "      <td>1</td>\n",
       "      <td>1</td>\n",
       "      <td>1</td>\n",
       "      <td>1</td>\n",
       "      <td>1</td>\n",
       "      <td>1</td>\n",
       "      <td>1.799250e-06</td>\n",
       "      <td>5.283441e-05</td>\n",
       "    </tr>\n",
       "    <tr>\n",
       "      <th>1</th>\n",
       "      <td>2</td>\n",
       "      <td>1</td>\n",
       "      <td>1</td>\n",
       "      <td>1</td>\n",
       "      <td>1</td>\n",
       "      <td>2</td>\n",
       "      <td>2</td>\n",
       "      <td>2</td>\n",
       "      <td>2</td>\n",
       "      <td>1</td>\n",
       "      <td>2</td>\n",
       "      <td>2</td>\n",
       "      <td>2</td>\n",
       "      <td>2</td>\n",
       "      <td>2</td>\n",
       "      <td>2</td>\n",
       "      <td>1.891212e-04</td>\n",
       "      <td>5.333071e-05</td>\n",
       "    </tr>\n",
       "    <tr>\n",
       "      <th>2</th>\n",
       "      <td>3</td>\n",
       "      <td>1</td>\n",
       "      <td>1</td>\n",
       "      <td>1</td>\n",
       "      <td>1</td>\n",
       "      <td>2</td>\n",
       "      <td>3</td>\n",
       "      <td>3</td>\n",
       "      <td>3</td>\n",
       "      <td>1</td>\n",
       "      <td>3</td>\n",
       "      <td>2</td>\n",
       "      <td>2</td>\n",
       "      <td>3</td>\n",
       "      <td>3</td>\n",
       "      <td>3</td>\n",
       "      <td>3.448563e-07</td>\n",
       "      <td>7.597590e-07</td>\n",
       "    </tr>\n",
       "    <tr>\n",
       "      <th>3</th>\n",
       "      <td>2</td>\n",
       "      <td>1</td>\n",
       "      <td>1</td>\n",
       "      <td>1</td>\n",
       "      <td>2</td>\n",
       "      <td>2</td>\n",
       "      <td>4</td>\n",
       "      <td>4</td>\n",
       "      <td>4</td>\n",
       "      <td>1</td>\n",
       "      <td>4</td>\n",
       "      <td>3</td>\n",
       "      <td>3</td>\n",
       "      <td>1</td>\n",
       "      <td>4</td>\n",
       "      <td>2</td>\n",
       "      <td>1.535693e-04</td>\n",
       "      <td>2.097236e-04</td>\n",
       "    </tr>\n",
       "    <tr>\n",
       "      <th>4</th>\n",
       "      <td>3</td>\n",
       "      <td>1</td>\n",
       "      <td>1</td>\n",
       "      <td>1</td>\n",
       "      <td>1</td>\n",
       "      <td>1</td>\n",
       "      <td>5</td>\n",
       "      <td>5</td>\n",
       "      <td>5</td>\n",
       "      <td>1</td>\n",
       "      <td>5</td>\n",
       "      <td>3</td>\n",
       "      <td>3</td>\n",
       "      <td>4</td>\n",
       "      <td>2</td>\n",
       "      <td>3</td>\n",
       "      <td>3.998334e-04</td>\n",
       "      <td>9.033619e-04</td>\n",
       "    </tr>\n",
       "    <tr>\n",
       "      <th>...</th>\n",
       "      <td>...</td>\n",
       "      <td>...</td>\n",
       "      <td>...</td>\n",
       "      <td>...</td>\n",
       "      <td>...</td>\n",
       "      <td>...</td>\n",
       "      <td>...</td>\n",
       "      <td>...</td>\n",
       "      <td>...</td>\n",
       "      <td>...</td>\n",
       "      <td>...</td>\n",
       "      <td>...</td>\n",
       "      <td>...</td>\n",
       "      <td>...</td>\n",
       "      <td>...</td>\n",
       "      <td>...</td>\n",
       "      <td>...</td>\n",
       "      <td>...</td>\n",
       "    </tr>\n",
       "    <tr>\n",
       "      <th>100842</th>\n",
       "      <td>2</td>\n",
       "      <td>1</td>\n",
       "      <td>11</td>\n",
       "      <td>1</td>\n",
       "      <td>3</td>\n",
       "      <td>2</td>\n",
       "      <td>468</td>\n",
       "      <td>436</td>\n",
       "      <td>2563</td>\n",
       "      <td>7</td>\n",
       "      <td>208</td>\n",
       "      <td>4</td>\n",
       "      <td>2</td>\n",
       "      <td>1</td>\n",
       "      <td>4</td>\n",
       "      <td>2</td>\n",
       "      <td>3.665140e-08</td>\n",
       "      <td>2.076449e-08</td>\n",
       "    </tr>\n",
       "    <tr>\n",
       "      <th>100843</th>\n",
       "      <td>2</td>\n",
       "      <td>1</td>\n",
       "      <td>1</td>\n",
       "      <td>1</td>\n",
       "      <td>1</td>\n",
       "      <td>1</td>\n",
       "      <td>67</td>\n",
       "      <td>6989</td>\n",
       "      <td>3629</td>\n",
       "      <td>1</td>\n",
       "      <td>1099</td>\n",
       "      <td>2</td>\n",
       "      <td>2</td>\n",
       "      <td>9</td>\n",
       "      <td>3</td>\n",
       "      <td>3</td>\n",
       "      <td>2.019159e-06</td>\n",
       "      <td>5.453042e-07</td>\n",
       "    </tr>\n",
       "    <tr>\n",
       "      <th>100844</th>\n",
       "      <td>21</td>\n",
       "      <td>1</td>\n",
       "      <td>1</td>\n",
       "      <td>1</td>\n",
       "      <td>1</td>\n",
       "      <td>3</td>\n",
       "      <td>511</td>\n",
       "      <td>7459</td>\n",
       "      <td>3805</td>\n",
       "      <td>52</td>\n",
       "      <td>2489</td>\n",
       "      <td>2</td>\n",
       "      <td>2</td>\n",
       "      <td>6</td>\n",
       "      <td>3</td>\n",
       "      <td>2</td>\n",
       "      <td>3.573511e-04</td>\n",
       "      <td>1.683411e-02</td>\n",
       "    </tr>\n",
       "    <tr>\n",
       "      <th>100845</th>\n",
       "      <td>3</td>\n",
       "      <td>1</td>\n",
       "      <td>1</td>\n",
       "      <td>1</td>\n",
       "      <td>1</td>\n",
       "      <td>1</td>\n",
       "      <td>116</td>\n",
       "      <td>954</td>\n",
       "      <td>7974</td>\n",
       "      <td>1</td>\n",
       "      <td>12</td>\n",
       "      <td>2</td>\n",
       "      <td>2</td>\n",
       "      <td>1</td>\n",
       "      <td>4</td>\n",
       "      <td>3</td>\n",
       "      <td>4.231570e-07</td>\n",
       "      <td>9.807922e-05</td>\n",
       "    </tr>\n",
       "    <tr>\n",
       "      <th>100846</th>\n",
       "      <td>2</td>\n",
       "      <td>1</td>\n",
       "      <td>1</td>\n",
       "      <td>1</td>\n",
       "      <td>1</td>\n",
       "      <td>2</td>\n",
       "      <td>16</td>\n",
       "      <td>5899</td>\n",
       "      <td>2397</td>\n",
       "      <td>1</td>\n",
       "      <td>53</td>\n",
       "      <td>21</td>\n",
       "      <td>14</td>\n",
       "      <td>2</td>\n",
       "      <td>2</td>\n",
       "      <td>2</td>\n",
       "      <td>8.329863e-08</td>\n",
       "      <td>2.509835e-06</td>\n",
       "    </tr>\n",
       "  </tbody>\n",
       "</table>\n",
       "<p>100847 rows × 18 columns</p>\n",
       "</div>"
      ],
      "text/plain": [
       "        Office ID  Process Type  Import Type  Import Use  Payment Type   \n",
       "0               1             1            1           1             1  \\\n",
       "1               2             1            1           1             1   \n",
       "2               3             1            1           1             1   \n",
       "3               2             1            1           1             2   \n",
       "4               3             1            1           1             1   \n",
       "...           ...           ...          ...         ...           ...   \n",
       "100842          2             1           11           1             3   \n",
       "100843          2             1            1           1             1   \n",
       "100844         21             1            1           1             1   \n",
       "100845          3             1            1           1             1   \n",
       "100846          2             1            1           1             1   \n",
       "\n",
       "        Mode of Transport  Declarant ID  Importer ID  Seller ID  Courier ID   \n",
       "0                       1             1            1          1           1  \\\n",
       "1                       2             2            2          2           1   \n",
       "2                       2             3            3          3           1   \n",
       "3                       2             4            4          4           1   \n",
       "4                       1             5            5          5           1   \n",
       "...                   ...           ...          ...        ...         ...   \n",
       "100842                  2           468          436       2563           7   \n",
       "100843                  1            67         6989       3629           1   \n",
       "100844                  3           511         7459       3805          52   \n",
       "100845                  1           116          954       7974           1   \n",
       "100846                  2            16         5899       2397           1   \n",
       "\n",
       "        HS6 Code  Country of Departure  Country of Origin  Tax Rate  Tax Type   \n",
       "0              1                     1                  1         1         1  \\\n",
       "1              2                     2                  2         2         2   \n",
       "2              3                     2                  2         3         3   \n",
       "3              4                     3                  3         1         4   \n",
       "4              5                     3                  3         4         2   \n",
       "...          ...                   ...                ...       ...       ...   \n",
       "100842       208                     4                  2         1         4   \n",
       "100843      1099                     2                  2         9         3   \n",
       "100844      2489                     2                  2         6         3   \n",
       "100845        12                     2                  2         1         4   \n",
       "100846        53                    21                 14         2         2   \n",
       "\n",
       "        Country of Origin Indicator      Net Mass    Item Price  \n",
       "0                                 1  1.799250e-06  5.283441e-05  \n",
       "1                                 2  1.891212e-04  5.333071e-05  \n",
       "2                                 3  3.448563e-07  7.597590e-07  \n",
       "3                                 2  1.535693e-04  2.097236e-04  \n",
       "4                                 3  3.998334e-04  9.033619e-04  \n",
       "...                             ...           ...           ...  \n",
       "100842                            2  3.665140e-08  2.076449e-08  \n",
       "100843                            3  2.019159e-06  5.453042e-07  \n",
       "100844                            2  3.573511e-04  1.683411e-02  \n",
       "100845                            3  4.231570e-07  9.807922e-05  \n",
       "100846                            2  8.329863e-08  2.509835e-06  \n",
       "\n",
       "[100847 rows x 18 columns]"
      ]
     },
     "execution_count": 25,
     "metadata": {},
     "output_type": "execute_result"
    }
   ],
   "source": [
    "X_train"
   ]
  },
  {
   "cell_type": "code",
   "execution_count": 26,
   "metadata": {},
   "outputs": [
    {
     "data": {
      "text/html": [
       "<div>\n",
       "<style scoped>\n",
       "    .dataframe tbody tr th:only-of-type {\n",
       "        vertical-align: middle;\n",
       "    }\n",
       "\n",
       "    .dataframe tbody tr th {\n",
       "        vertical-align: top;\n",
       "    }\n",
       "\n",
       "    .dataframe thead th {\n",
       "        text-align: right;\n",
       "    }\n",
       "</style>\n",
       "<table border=\"1\" class=\"dataframe\">\n",
       "  <thead>\n",
       "    <tr style=\"text-align: right;\">\n",
       "      <th></th>\n",
       "      <th>Fraud</th>\n",
       "    </tr>\n",
       "  </thead>\n",
       "  <tbody>\n",
       "    <tr>\n",
       "      <th>0</th>\n",
       "      <td>0</td>\n",
       "    </tr>\n",
       "    <tr>\n",
       "      <th>1</th>\n",
       "      <td>0</td>\n",
       "    </tr>\n",
       "    <tr>\n",
       "      <th>2</th>\n",
       "      <td>0</td>\n",
       "    </tr>\n",
       "    <tr>\n",
       "      <th>3</th>\n",
       "      <td>0</td>\n",
       "    </tr>\n",
       "    <tr>\n",
       "      <th>4</th>\n",
       "      <td>0</td>\n",
       "    </tr>\n",
       "    <tr>\n",
       "      <th>...</th>\n",
       "      <td>...</td>\n",
       "    </tr>\n",
       "    <tr>\n",
       "      <th>100842</th>\n",
       "      <td>0</td>\n",
       "    </tr>\n",
       "    <tr>\n",
       "      <th>100843</th>\n",
       "      <td>0</td>\n",
       "    </tr>\n",
       "    <tr>\n",
       "      <th>100844</th>\n",
       "      <td>0</td>\n",
       "    </tr>\n",
       "    <tr>\n",
       "      <th>100845</th>\n",
       "      <td>0</td>\n",
       "    </tr>\n",
       "    <tr>\n",
       "      <th>100846</th>\n",
       "      <td>1</td>\n",
       "    </tr>\n",
       "  </tbody>\n",
       "</table>\n",
       "<p>100847 rows × 1 columns</p>\n",
       "</div>"
      ],
      "text/plain": [
       "        Fraud\n",
       "0           0\n",
       "1           0\n",
       "2           0\n",
       "3           0\n",
       "4           0\n",
       "...       ...\n",
       "100842      0\n",
       "100843      0\n",
       "100844      0\n",
       "100845      0\n",
       "100846      1\n",
       "\n",
       "[100847 rows x 1 columns]"
      ]
     },
     "execution_count": 26,
     "metadata": {},
     "output_type": "execute_result"
    }
   ],
   "source": [
    "y_train"
   ]
  },
  {
   "cell_type": "code",
   "execution_count": 27,
   "metadata": {
    "executionInfo": {
     "elapsed": 540,
     "status": "ok",
     "timestamp": 1674701398126,
     "user": {
      "displayName": "Joel",
      "userId": "18127704775352828294"
     },
     "user_tz": -480
    },
    "id": "JKIo8frYOz_T"
   },
   "outputs": [],
   "source": [
    "from imblearn.over_sampling import RandomOverSampler"
   ]
  },
  {
   "cell_type": "code",
   "execution_count": 28,
   "metadata": {
    "executionInfo": {
     "elapsed": 13,
     "status": "ok",
     "timestamp": 1674701398127,
     "user": {
      "displayName": "Joel",
      "userId": "18127704775352828294"
     },
     "user_tz": -480
    },
    "id": "WdOsnfusOz_U"
   },
   "outputs": [],
   "source": [
    "\n",
    "over_sampler = RandomOverSampler(random_state = 11)\n",
    "X_train_over, y_train_over = over_sampler.fit_resample(X_train, y_train)"
   ]
  },
  {
   "cell_type": "code",
   "execution_count": 29,
   "metadata": {
    "colab": {
     "base_uri": "https://localhost:8080/"
    },
    "executionInfo": {
     "elapsed": 13,
     "status": "ok",
     "timestamp": 1674701398128,
     "user": {
      "displayName": "Joel",
      "userId": "18127704775352828294"
     },
     "user_tz": -480
    },
    "id": "OpzsQsYHlZGA",
    "outputId": "fe2dac28-d203-49bf-ca1f-b5aec6f9e9ec"
   },
   "outputs": [
    {
     "name": "stdout",
     "output_type": "stream",
     "text": [
      "Before oversampling:\n",
      "Fraud\n",
      "0        73097\n",
      "1        27750\n",
      "Name: count, dtype: int64\n",
      "\n",
      "After oversampling:\n",
      "Fraud\n",
      "0        73097\n",
      "1        73097\n",
      "Name: count, dtype: int64\n"
     ]
    }
   ],
   "source": [
    "print(\"Before oversampling:\")\n",
    "print(y_train.value_counts())\n",
    "print(\"\\nAfter oversampling:\")\n",
    "print(y_train_over.value_counts())"
   ]
  },
  {
   "cell_type": "code",
   "execution_count": 30,
   "metadata": {
    "executionInfo": {
     "elapsed": 11,
     "status": "ok",
     "timestamp": 1674701398128,
     "user": {
      "displayName": "Joel",
      "userId": "18127704775352828294"
     },
     "user_tz": -480
    },
    "id": "a519rVnsT1SS"
   },
   "outputs": [],
   "source": [
    "\n",
    "y_train_over = np.array(y_train_over).ravel()\n",
    "y_valid = np.array(y_valid).ravel()"
   ]
  },
  {
   "cell_type": "code",
   "execution_count": 31,
   "metadata": {
    "executionInfo": {
     "elapsed": 10,
     "status": "ok",
     "timestamp": 1674701398128,
     "user": {
      "displayName": "Joel",
      "userId": "18127704775352828294"
     },
     "user_tz": -480
    },
    "id": "WPXeOOpFOz_X"
   },
   "outputs": [],
   "source": [
    "xgb_model = XGBClassifier(base_score=0.5, booster='gbtree', colsample_bylevel=1,\n",
    "              colsample_bynode=1, colsample_bytree=0.6, gamma=1,\n",
    "              importance_type='gain', interaction_constraints='',\n",
    "              learning_rate=0.5994130001745845, max_delta_step=0, max_depth=7,\n",
    "              min_child_weight=2,\n",
    "              n_estimators=1500, n_jobs=20, num_parallel_tree=2, random_state=0,\n",
    "              reg_alpha=0, reg_lambda=1, scale_pos_weight=1, subsample=1.0,\n",
    "              tree_method='exact', validate_parameters=1, verbosity=0, objective=  'binary:logistic', eval_metric='logloss')\n"
   ]
  },
  {
   "cell_type": "code",
   "execution_count": 32,
   "metadata": {
    "executionInfo": {
     "elapsed": 11,
     "status": "ok",
     "timestamp": 1674701398129,
     "user": {
      "displayName": "Joel",
      "userId": "18127704775352828294"
     },
     "user_tz": -480
    },
    "id": "GpsP79SCOz_V"
   },
   "outputs": [],
   "source": [
    "def timer(start_time=None):\n",
    "    if not start_time:\n",
    "        start_time = datetime.now()\n",
    "        return start_time\n",
    "    elif start_time:\n",
    "        thour, temp_sec = divmod((datetime.now() - start_time).total_seconds(), 3600)\n",
    "        tmin, tsec = divmod(temp_sec, 60)\n",
    "        print('\\n Time taken: %i hours %i minutes and %s seconds.' % (thour, tmin, round(tsec, 2)))"
   ]
  },
  {
   "cell_type": "code",
   "execution_count": 33,
   "metadata": {
    "executionInfo": {
     "elapsed": 10,
     "status": "ok",
     "timestamp": 1674701398129,
     "user": {
      "displayName": "Joel",
      "userId": "18127704775352828294"
     },
     "user_tz": -480
    },
    "id": "1m1NMm5E-p8q"
   },
   "outputs": [],
   "source": [
    "from sklearn.metrics import confusion_matrix,precision_score,accuracy_score,recall_score,f1_score,roc_auc_score\n",
    "\n",
    "def get_clf_eval(y_test, pred=None, pred_proba=None):\n",
    "    confusion = confusion_matrix(y_test, pred)\n",
    "    accuracy = accuracy_score(y_test, pred)\n",
    "    precision = precision_score(y_test, pred, average ='macro')\n",
    "    recall = recall_score(y_test, pred, average ='macro')\n",
    "    f1 = f1_score(y_test, pred, average ='macro')\n",
    "    \n",
    "    print(\"confusion\\n\", confusion)\n",
    "    print(\"Accuracy: {0:.4f}, precision: {1:.4f}, recall: {2:.4f}, F1:{3:.4f}\\n\".format(accuracy, precision, recall, f1))\n",
    "  "
   ]
  },
  {
   "cell_type": "code",
   "execution_count": 34,
   "metadata": {
    "executionInfo": {
     "elapsed": 10,
     "status": "ok",
     "timestamp": 1674701398130,
     "user": {
      "displayName": "Joel",
      "userId": "18127704775352828294"
     },
     "user_tz": -480
    },
    "id": "mPzgAudinu4A"
   },
   "outputs": [],
   "source": [
    "def get_model_train_eval(model, ftr_train = None, ftr_test = None, tgt_train = None, tgt_test = None):\n",
    "    model.fit(ftr_train, tgt_train)\n",
    "    pred = model.predict(ftr_test)\n",
    "    pred_proba = model.predict_proba(ftr_test)[:, 1]\n",
    "    get_clf_eval(tgt_test, pred, pred_proba)\n",
    "    "
   ]
  },
  {
   "cell_type": "code",
   "execution_count": null,
   "metadata": {},
   "outputs": [],
   "source": [
    "from sklearn.model_selection import GridSearchCV\n",
    "import joblib\n",
    "from xgboost import plot_importance, XGBRFClassifier\n",
    "\n",
    "param_grid = {\n",
    "    'max_depth': [3, 5, 7],\n",
    "    'n_estimators': [2000, 2500, 3000],\n",
    "    'n_jobs': [20,25,30],\n",
    "    'num_parallel_tree': [1,2,3]\n",
    "     \n",
    "\n",
    "}\n",
    "\n",
    "grid_search = GridSearchCV(xgb_model, param_grid, cv=5, scoring='accuracy')\n",
    "grid_search.fit(X_train_over, y_train_over)\n",
    "\n",
    "print(\"Best Hyperparameters:\", grid_search.best_params_)\n",
    "best_xgb_model = grid_search.best_estimator_\n",
    "\n",
    "best_xgb_model.fit(X_train_over, y_train_over)\n",
    "\n",
    "joblib.dump(best_xgb_model, 'best_xgb_model.pkl')\n",
    "\n",
    "def print_evaluation_metrics(y_true, y_pred):\n",
    "    confusion = confusion_matrix(y_true, y_pred)\n",
    "    accuracy = accuracy_score(y_true, y_pred)\n",
    "    precision = precision_score(y_true, y_pred, average='macro')\n",
    "    recall = recall_score(y_true, y_pred, average='macro')\n",
    "    f1 = f1_score(y_true, y_pred, average='macro')\n",
    "    \n",
    "    print(\"Confusion Matrix:\\n\", confusion)\n",
    "    print(\"Accuracy: {0:.4f}, Precision: {1:.4f}, Recall: {2:.4f}, F1-score: {3:.4f}\".format(accuracy, precision, recall, f1))\n",
    "\n",
    "# Load the final model\n",
    "loaded_model = joblib.load('best_xgb_model.pkl')\n",
    "\n",
    "# Evaluate the final model on the validation set\n",
    "pred_test = loaded_model.predict(X_valid)\n",
    "print_evaluation_metrics(y_valid, pred_test)\n",
    "\n",
    "# Plot feature importance\n",
    "plot_importance(loaded_model, max_num_features=20)\n",
    "\n",
    "\n"
   ]
  },
  {
   "cell_type": "code",
   "execution_count": 35,
   "metadata": {},
   "outputs": [
    {
     "name": "stdout",
     "output_type": "stream",
     "text": [
      "Cross-validation Accuracy: 0.9192 (+/- 0.0031)\n",
      "\n",
      " Time taken: 0 hours 11 minutes and 46.84 seconds.\n",
      "Confusion Matrix:\n",
      " [[15433   409]\n",
      " [  145  4072]]\n",
      "Accuracy: 0.9724, Precision: 0.9497, Recall: 0.9699, F1-score: 0.9593\n"
     ]
    },
    {
     "data": {
      "text/plain": [
       "<Axes: title={'center': 'Feature importance'}, xlabel='F score', ylabel='Features'>"
      ]
     },
     "execution_count": 35,
     "metadata": {},
     "output_type": "execute_result"
    },
    {
     "data": {
      "image/png": "[encoded data removed]",
      "text/plain": [
       "<Figure size 640x480 with 1 Axes>"
      ]
     },
     "metadata": {},
     "output_type": "display_data"
    }
   ],
   "source": [
    "from sklearn.model_selection import StratifiedKFold, cross_val_score\n",
    "import numpy as np\n",
    "import joblib\n",
    "%matplotlib inline\n",
    "from xgboost import plot_importance, XGBRFClassifier\n",
    "\n",
    "#Best Hyperparameters:{'max_depth': 8, 'n_estimators': 2500, 'n_jobs': 20, 'num_parallel_tree': 2}\n",
    "\n",
    "# Define XGBoost classifier\n",
    "\n",
    "xgb_model = XGBClassifier(base_score=0.5, booster='gbtree', colsample_bylevel=1,\n",
    "                          colsample_bynode=1, colsample_bytree=0.6, gamma=1,\n",
    "                          importance_type='gain', interaction_constraints='',\n",
    "                          learning_rate=0.5994130001745845, max_delta_step=0, max_depth=8,\n",
    "                          min_child_weight=3,\n",
    "                          n_estimators=2500, n_jobs=20, num_parallel_tree=2, random_state=0,\n",
    "                          reg_alpha=0, reg_lambda=1, scale_pos_weight=1, subsample=1.0,\n",
    "                          tree_method='exact', validate_parameters=1, verbosity=0,\n",
    "                          objective='binary:logistic', eval_metric='logloss')\n",
    "\n",
    "def timer(start_time=None):\n",
    "    if not start_time:\n",
    "        start_time = datetime.now()\n",
    "        return start_time\n",
    "    elif start_time:\n",
    "        thour, temp_sec = divmod((datetime.now() - start_time).total_seconds(), 3600)\n",
    "        tmin, tsec = divmod(temp_sec, 60)\n",
    "        print('\\n Time taken: %i hours %i minutes and %s seconds.' % (thour, tmin, round(tsec, 2)))\n",
    "\n",
    "from sklearn.metrics import make_scorer, confusion_matrix, precision_score, accuracy_score, recall_score, f1_score, roc_auc_score\n",
    "\n",
    "\n",
    "def print_evaluation_metrics(y_true, y_pred):\n",
    "    confusion = confusion_matrix(y_true, y_pred)\n",
    "    accuracy = accuracy_score(y_true, y_pred)\n",
    "    precision = precision_score(y_true, y_pred, average='macro')\n",
    "    recall = recall_score(y_true, y_pred, average='macro')\n",
    "    f1 = f1_score(y_true, y_pred, average='macro')\n",
    "    \n",
    "    print(\"Confusion Matrix:\\n\", confusion)\n",
    "    print(\"Accuracy: {0:.4f}, Precision: {1:.4f}, Recall: {2:.4f}, F1-score: {3:.4f}\".format(accuracy, precision, recall, f1))\n",
    "\n",
    "def train_and_evaluate_with_cv(model, X, y, cv=5):\n",
    "    start_time = timer(None)\n",
    "    \n",
    "    skf = StratifiedKFold(n_splits=cv, shuffle=True, random_state=42)\n",
    "    \n",
    "    cv_results = cross_val_score(model, X, y, cv=skf, scoring='accuracy')\n",
    "    print(\"Cross-validation Accuracy: %0.4f (+/- %0.4f)\" % (cv_results.mean(), cv_results.std() * 2))\n",
    "    \n",
    "    timer(start_time)\n",
    "\n",
    "\n",
    "train_and_evaluate_with_cv(xgb_model, X_train_over, y_train_over)\n",
    "\n",
    "xgb_model.fit(X_train_over, y_train_over)\n",
    "\n",
    "\n",
    "joblib.dump(xgb_model, 'fraud_detection.pkl')\n",
    "\n",
    "pred_test = xgb_model.predict(X_valid)\n",
    "\n",
    "print_evaluation_metrics(y_valid, pred_test)\n",
    "\n",
    "loaded_model = joblib.load('fraud_detection.pkl')\n",
    "\n",
    "plot_importance(loaded_model, max_num_features=20)"
   ]
  },
  {
   "cell_type": "code",
   "execution_count": 32,
   "metadata": {
    "executionInfo": {
     "elapsed": 23,
     "status": "ok",
     "timestamp": 1674701415237,
     "user": {
      "displayName": "Joel",
      "userId": "18127704775352828294"
     },
     "user_tz": -480
    },
    "id": "BYWRAuFbOz_Y"
   },
   "outputs": [],
   "source": [
    "import pickle\n",
    "file_name = \"./model/xgb_reg_eng.pkl\"\n",
    "os.makedirs('./model/', exist_ok = True)\n",
    "\n",
    "\n",
    "pickle.dump(xgb_model, open(file_name, \"wb\"))"
   ]
  },
  {
   "cell_type": "code",
   "execution_count": 5,
   "metadata": {},
   "outputs": [],
   "source": [
    "import streamlit as st\n",
    "import numpy as np\n",
    "import pandas as pd\n",
    "import joblib\n",
    "from xgboost import plot_importance\n",
    "\n",
    "X_test = pd.read_csv('./data_enc/encoded_test.csv')\n",
    "y_test = pd.read_csv('./data_enc/y_test.csv')\n",
    "\n",
    "\n",
    "\n",
    "model=\"./model/xgb_reg_eng.pkl\"\n",
    "loaded_model = joblib.load(model)\n",
    "\n",
    "\n",
    "def make_prediction(X_test):\n",
    "    prediction = loaded_model.predict(X_test)\n",
    "    return prediction\n",
    "\n",
    "\n",
    "def plot_feature_importance():\n",
    "    plot_importance(loaded_model, max_num_features=20)\n",
    "\n",
    "\n",
    "def main():\n",
    "    st.title('Model Evaluation and Visualization')\n",
    "\n",
    "    st.sidebar.header('User Input')\n",
    "    st.header('Feature Importance')\n",
    "    plot_feature_importance()\n",
    "\n",
    "if __name__ == '__main__':\n",
    "    main()\n"
   ]
  },
  {
   "cell_type": "code",
   "execution_count": null,
   "metadata": {},
   "outputs": [],
   "source": []
  }
 ],
 "metadata": {
  "colab": {
   "provenance": []
  },
  "gpuClass": "standard",
  "kernelspec": {
   "display_name": "Python 3",
   "language": "python",
   "name": "python3"
  },
  "language_info": {
   "codemirror_mode": {
    "name": "ipython",
    "version": 3
   },
   "file_extension": ".py",
   "mimetype": "text/x-python",
   "name": "python",
   "nbconvert_exporter": "python",
   "pygments_lexer": "ipython3",
   "version": "3.9.13"
  }
 },
 "nbformat": 4,
 "nbformat_minor": 1
}
